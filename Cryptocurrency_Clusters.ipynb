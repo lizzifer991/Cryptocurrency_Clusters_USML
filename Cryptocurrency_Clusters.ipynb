{
 "cells": [
  {
   "cell_type": "code",
   "execution_count": 3,
   "id": "9e36ff21-46a0-4353-b3f1-f229f41cd1f6",
   "metadata": {},
   "outputs": [],
   "source": [
    "#Import Dependencies\n",
    "\n",
    "import pandas as pd\n",
    "import os\n",
    "import matplotlib.pyplot as plt\n",
    "import numpy as np\n",
    "from pathlib import Path\n",
    "from sklearn.cluster import KMeans\n",
    "from sklearn.preprocessing import StandardScaler\n",
    "from sklearn.decomposition import PCA\n",
    "from sklearn.pipeline import Pipeline\n",
    "from sklearn.model_selection import GridSearchCV\n",
    "from sklearn.model_selection import train_test_split\n",
    "from sklearn.svm import SVC\n",
    "from sklearn.manifold import TSNE\n",
    "from sklearn.cluster import DBSCAN\n",
    "from sklearn.preprocessing import normalize\n",
    "from scipy.cluster.hierarchy import dendrogram, linkage\n",
    "from sklearn.cluster import AgglomerativeClustering"
   ]
  },
  {
   "cell_type": "markdown",
   "id": "9ab5a48c-73e4-4d4f-8ff6-48a1ce5fdeb9",
   "metadata": {},
   "source": [
    "# Data Preparation"
   ]
  },
  {
   "cell_type": "code",
   "execution_count": 2,
   "id": "5a654f01-9532-44cd-8187-89909510d8bc",
   "metadata": {},
   "outputs": [
    {
     "data": {
      "text/html": [
       "<div>\n",
       "<style scoped>\n",
       "    .dataframe tbody tr th:only-of-type {\n",
       "        vertical-align: middle;\n",
       "    }\n",
       "\n",
       "    .dataframe tbody tr th {\n",
       "        vertical-align: top;\n",
       "    }\n",
       "\n",
       "    .dataframe thead th {\n",
       "        text-align: right;\n",
       "    }\n",
       "</style>\n",
       "<table border=\"1\" class=\"dataframe\">\n",
       "  <thead>\n",
       "    <tr style=\"text-align: right;\">\n",
       "      <th></th>\n",
       "      <th>Unnamed: 0</th>\n",
       "      <th>CoinName</th>\n",
       "      <th>Algorithm</th>\n",
       "      <th>IsTrading</th>\n",
       "      <th>ProofType</th>\n",
       "      <th>TotalCoinsMined</th>\n",
       "      <th>TotalCoinSupply</th>\n",
       "    </tr>\n",
       "  </thead>\n",
       "  <tbody>\n",
       "    <tr>\n",
       "      <th>0</th>\n",
       "      <td>42</td>\n",
       "      <td>42 Coin</td>\n",
       "      <td>Scrypt</td>\n",
       "      <td>True</td>\n",
       "      <td>PoW/PoS</td>\n",
       "      <td>4.199995e+01</td>\n",
       "      <td>42</td>\n",
       "    </tr>\n",
       "    <tr>\n",
       "      <th>1</th>\n",
       "      <td>365</td>\n",
       "      <td>365Coin</td>\n",
       "      <td>X11</td>\n",
       "      <td>True</td>\n",
       "      <td>PoW/PoS</td>\n",
       "      <td>NaN</td>\n",
       "      <td>2300000000</td>\n",
       "    </tr>\n",
       "    <tr>\n",
       "      <th>2</th>\n",
       "      <td>404</td>\n",
       "      <td>404Coin</td>\n",
       "      <td>Scrypt</td>\n",
       "      <td>True</td>\n",
       "      <td>PoW/PoS</td>\n",
       "      <td>1.055185e+09</td>\n",
       "      <td>532000000</td>\n",
       "    </tr>\n",
       "    <tr>\n",
       "      <th>3</th>\n",
       "      <td>611</td>\n",
       "      <td>SixEleven</td>\n",
       "      <td>SHA-256</td>\n",
       "      <td>True</td>\n",
       "      <td>PoW</td>\n",
       "      <td>NaN</td>\n",
       "      <td>611000</td>\n",
       "    </tr>\n",
       "    <tr>\n",
       "      <th>4</th>\n",
       "      <td>808</td>\n",
       "      <td>808</td>\n",
       "      <td>SHA-256</td>\n",
       "      <td>True</td>\n",
       "      <td>PoW/PoS</td>\n",
       "      <td>0.000000e+00</td>\n",
       "      <td>0</td>\n",
       "    </tr>\n",
       "  </tbody>\n",
       "</table>\n",
       "</div>"
      ],
      "text/plain": [
       "  Unnamed: 0   CoinName Algorithm  IsTrading ProofType  TotalCoinsMined  \\\n",
       "0         42    42 Coin    Scrypt       True   PoW/PoS     4.199995e+01   \n",
       "1        365    365Coin       X11       True   PoW/PoS              NaN   \n",
       "2        404    404Coin    Scrypt       True   PoW/PoS     1.055185e+09   \n",
       "3        611  SixEleven   SHA-256       True       PoW              NaN   \n",
       "4        808        808   SHA-256       True   PoW/PoS     0.000000e+00   \n",
       "\n",
       "  TotalCoinSupply  \n",
       "0              42  \n",
       "1      2300000000  \n",
       "2       532000000  \n",
       "3          611000  \n",
       "4               0  "
      ]
     },
     "execution_count": 2,
     "metadata": {},
     "output_type": "execute_result"
    }
   ],
   "source": [
    "#Read in CSV file\n",
    "\n",
    "file_path = Path(\"Resources/crypto_data.csv\")\n",
    "df = pd.read_csv(file_path)\n",
    "df.head()"
   ]
  },
  {
   "cell_type": "code",
   "execution_count": null,
   "id": "3bc2c837-30c1-4aac-af9b-70d4aea20a10",
   "metadata": {},
   "outputs": [],
   "source": [
    "# Discard all cryptocurrencies that are not being traded. In other words, filter for currencies that are currently being traded. Once you have done this, drop the IsTrading column from the dataframe"
   ]
  },
  {
   "cell_type": "code",
   "execution_count": null,
   "id": "261725be-dfa5-4870-8bde-8ce5bf0c13ef",
   "metadata": {},
   "outputs": [],
   "source": [
    "# Remove all rows that have at least one null value"
   ]
  },
  {
   "cell_type": "code",
   "execution_count": null,
   "id": "387ac6ac-99da-4aba-b813-a6cefe959200",
   "metadata": {},
   "outputs": [],
   "source": [
    "#Filter cryptocurrencies that have been mined. That is, the totatl coins mined should be greater than 0"
   ]
  },
  {
   "cell_type": "code",
   "execution_count": null,
   "id": "f9bc52fd-8f64-485b-897f-178a822f3aed",
   "metadata": {},
   "outputs": [],
   "source": [
    "# Delete the CoinName from the original dataframe."
   ]
  },
  {
   "cell_type": "code",
   "execution_count": null,
   "id": "0677b1dc-38ca-415f-8652-175101bf9e5d",
   "metadata": {},
   "outputs": [],
   "source": [
    "# Your next step in data preparation is to convert the remaining features with text values, Algorithm and ProofType, into numerical data. To accomplish this task, use Pandas to create dummy variables. "
   ]
  },
  {
   "cell_type": "code",
   "execution_count": null,
   "id": "783231af-1ab1-4cb4-bf09-f6087bfa02a7",
   "metadata": {},
   "outputs": [],
   "source": [
    "#Examine the number of rows and columns of your dataset now. How did they change?"
   ]
  },
  {
   "cell_type": "markdown",
   "id": "76511df0-8828-4d0e-99c9-70c768924778",
   "metadata": {},
   "source": [
    "# Dimensionality Reduction"
   ]
  },
  {
   "cell_type": "code",
   "execution_count": null,
   "id": "878b3b92-2c5c-43a0-a083-283b0c52459c",
   "metadata": {},
   "outputs": [],
   "source": [
    "# Perform dimensionality reduction with PCA. Rather than specify the number of principal components when you instantiate the PCA model, it is possible to state the desired explained variance. "
   ]
  },
  {
   "cell_type": "code",
   "execution_count": null,
   "id": "1bb4dbd8-c813-4eb5-bb2b-78478601be99",
   "metadata": {},
   "outputs": [],
   "source": [
    "#How did the number of the features change?"
   ]
  },
  {
   "cell_type": "code",
   "execution_count": null,
   "id": "46831731-e456-45cb-a0bd-c303444dfc3a",
   "metadata": {},
   "outputs": [],
   "source": [
    "# Next, further reduce the dataset dimensions with t-SNE and visually inspect the results. In order to accomplish this task, run t-SNE on the principal components: the output of the PCA transformation. "
   ]
  },
  {
   "cell_type": "code",
   "execution_count": null,
   "id": "7f0d9f27-5cd7-49b3-8c1a-51e2e65350ad",
   "metadata": {},
   "outputs": [],
   "source": [
    "#Then create a scatter plot of the t-SNE output. "
   ]
  },
  {
   "cell_type": "code",
   "execution_count": null,
   "id": "e02ea78e-8ed0-45d5-b170-f99e5c84ce4a",
   "metadata": {},
   "outputs": [],
   "source": [
    "# Observe whether there are distinct clusters or not."
   ]
  },
  {
   "cell_type": "markdown",
   "id": "b45f521d-6fb3-4206-a260-d4f6ab7c9f02",
   "metadata": {},
   "source": [
    "# Cluster Analysis with k-Means"
   ]
  },
  {
   "cell_type": "code",
   "execution_count": null,
   "id": "4a3c2aaf-824f-4042-b552-62fe67babf54",
   "metadata": {
    "tags": []
   },
   "outputs": [],
   "source": [
    "# Create an elbow plot to identify the best number of clusters. Use a for-loop to determine the inertia for each k between 1 through 10. "
   ]
  },
  {
   "cell_type": "code",
   "execution_count": null,
   "id": "3604fed7-c652-47d6-b66b-e03b6af95e40",
   "metadata": {},
   "outputs": [],
   "source": [
    "# Determine, if possible, where the elbow of the plot is, and at which value of k it appears."
   ]
  },
  {
   "cell_type": "markdown",
   "id": "9617faf0-6866-460f-885c-9f110ff712eb",
   "metadata": {},
   "source": [
    "# Recommedation"
   ]
  },
  {
   "cell_type": "code",
   "execution_count": null,
   "id": "5eca0f05-3b69-48ea-a4ce-36dc6de3e686",
   "metadata": {},
   "outputs": [],
   "source": [
    "# Based on your findings, make a brief (1-2 sentences) recommendation to your clients. Can the cryptocurrencies be clustered together? If so, into how many clusters?"
   ]
  }
 ],
 "metadata": {
  "kernelspec": {
   "display_name": "Python 3 (ipykernel)",
   "language": "python",
   "name": "python3"
  },
  "language_info": {
   "codemirror_mode": {
    "name": "ipython",
    "version": 3
   },
   "file_extension": ".py",
   "mimetype": "text/x-python",
   "name": "python",
   "nbconvert_exporter": "python",
   "pygments_lexer": "ipython3",
   "version": "3.9.7"
  }
 },
 "nbformat": 4,
 "nbformat_minor": 5
}
